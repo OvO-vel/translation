{
 "cells": [
  {
   "cell_type": "markdown",
   "id": "dc32b61f-253b-46d3-8e85-76756a93eb31",
   "metadata": {
    "tags": []
   },
   "source": [
    "# [おためし] 百言語翻訳機 \n",
    "\n",
    "## Facebook の M2M-100 を動かしてみる \n",
    "\n",
    "[対応言語一覧はこちら.](https://huggingface.co/facebook/m2m100-12B-last-ckpt#languages-covered)  \n",
    "本当にぴったり100言語.  \n",
    "少なくとも日常で聞いたことがある言語は含まれてると思ってよさそう.  \n",
    "逆に知らない言語の方が多い.  \n",
    "\n",
    "ただし**1.2B (12億パラメタ; 約5GB)** まで試したところ, 精度は悪い.  \n",
    "  ((パクチーが別の言葉に訳されたり, 円安と円高がごっちゃになったりする))  \n",
    "本命の**12B (120億パラメタ; 約47GB)** はローカルの容量が足りず, 動かせていない.  \n",
    "今後, Google ColaboratoryやSagemaker Studio等で動かせないか調べて試してみたい. \n",
    "\n",
    "\n",
    " (23/06/18) \n",
    "\n"
   ]
  },
  {
   "cell_type": "markdown",
   "id": "9573de2c-754b-4840-99aa-bbf96e8254e2",
   "metadata": {
    "tags": []
   },
   "source": [
    "## 実行環境 "
   ]
  },
  {
   "cell_type": "code",
   "execution_count": 1,
   "id": "206fab78-ebef-4fc2-b420-4c29e5909873",
   "metadata": {
    "tags": []
   },
   "outputs": [
    {
     "name": "stdout",
     "output_type": "stream",
     "text": [
      "# Name                    Version                   Build  Channel\n",
      "python                    3.11.3               hf27a42d_1  \n",
      "pytorch                   1.13.1          cpu_py311h9e40b02_0  \n",
      "sentencepiece             0.1.99                   pypi_0    pypi\n",
      "transformers              4.30.2             pyhd8ed1ab_1    conda-forge\n"
     ]
    }
   ],
   "source": [
    "!conda list '^(python|pytorch|sentencepiece|transformers)$' | tail -n 5\n"
   ]
  },
  {
   "cell_type": "markdown",
   "id": "d40a3bd4-e8f6-4885-b346-c898075cf6f4",
   "metadata": {},
   "source": [
    "## モデル名を指定 \n",
    "\n",
    "コメントアウトを切り替えて, 翻訳に使用するモデルを選択してください. \n"
   ]
  },
  {
   "cell_type": "code",
   "execution_count": 2,
   "id": "9d6d4590-ac3b-4570-829d-c7cc79079905",
   "metadata": {
    "tags": []
   },
   "outputs": [],
   "source": [
    "# モデル名 \n",
    "# model_name = 'facebook/m2m100_418M'  # M2M-100 (4億1800万パラメタ; 約2GB)\n",
    "model_name = 'facebook/m2m100_1.2B'  # M2M-100 (12億パラメタ; 約5GB)\n",
    "# model_name = 'facebook/m2m100-12B-last-ckpt'  # M2M-100 (120億パラメタ; 約47GB)\n"
   ]
  },
  {
   "cell_type": "markdown",
   "id": "9c08ee25-667f-4475-b21e-c0a0a05f1079",
   "metadata": {},
   "source": [
    "## 1. 諸設定 \n"
   ]
  },
  {
   "cell_type": "code",
   "execution_count": null,
   "id": "037ef51b-fa3d-4831-aad1-79c36f40d539",
   "metadata": {
    "tags": []
   },
   "outputs": [],
   "source": [
    "import os\n",
    "\n",
    "import torch\n",
    "from transformers import M2M100ForConditionalGeneration, M2M100Tokenizer\n"
   ]
  },
  {
   "cell_type": "code",
   "execution_count": 4,
   "id": "24453f1e-7c62-412b-9707-9a44c2ae7506",
   "metadata": {
    "tags": []
   },
   "outputs": [],
   "source": [
    "os.environ['KMP_DUPLICATE_LIB_OK'] = 'TRUE'  # to ignore \"OMP: Error #15\"\n"
   ]
  },
  {
   "cell_type": "code",
   "execution_count": 5,
   "id": "aafd0d87-d826-41c3-8e47-c3d6d4e19255",
   "metadata": {
    "tags": []
   },
   "outputs": [
    {
     "data": {
      "text/plain": [
       "'models/facebook/m2m100_1.2B'"
      ]
     },
     "execution_count": 5,
     "metadata": {},
     "output_type": "execute_result"
    }
   ],
   "source": [
    "# モデルパラメタとトークナイザをあらかじめ置いておくパス\n",
    "model_path = os.path.join('models', model_name)  # 例: 'models/facebook/m2m100_418M'\n",
    "\n",
    "model_path\n"
   ]
  },
  {
   "cell_type": "code",
   "execution_count": null,
   "id": "508016fe-3a4d-4f06-997e-eba5d06e2bb8",
   "metadata": {
    "scrolled": true,
    "tags": []
   },
   "outputs": [],
   "source": [
    "%%time\n",
    "\n",
    "# モデルパラメタを読込\n",
    "model = M2M100ForConditionalGeneration.from_pretrained(model_path)\n",
    "\n",
    "model\n"
   ]
  },
  {
   "cell_type": "code",
   "execution_count": 7,
   "id": "863e1328-bb17-4e56-9aa3-1533d070a81f",
   "metadata": {
    "scrolled": true,
    "tags": []
   },
   "outputs": [
    {
     "data": {
      "text/plain": [
       "M2M100Tokenizer(name_or_path='models/facebook/m2m100_1.2B', vocab_size=128104, model_max_length=1000000000000000019884624838656, is_fast=False, padding_side='right', truncation_side='right', special_tokens={'bos_token': '<s>', 'eos_token': '</s>', 'unk_token': '<unk>', 'sep_token': '</s>', 'pad_token': '<pad>', 'additional_special_tokens': ['__af__', '__am__', '__ar__', '__ast__', '__az__', '__ba__', '__be__', '__bg__', '__bn__', '__br__', '__bs__', '__ca__', '__ceb__', '__cs__', '__cy__', '__da__', '__de__', '__el__', '__en__', '__es__', '__et__', '__fa__', '__ff__', '__fi__', '__fr__', '__fy__', '__ga__', '__gd__', '__gl__', '__gu__', '__ha__', '__he__', '__hi__', '__hr__', '__ht__', '__hu__', '__hy__', '__id__', '__ig__', '__ilo__', '__is__', '__it__', '__ja__', '__jv__', '__ka__', '__kk__', '__km__', '__kn__', '__ko__', '__lb__', '__lg__', '__ln__', '__lo__', '__lt__', '__lv__', '__mg__', '__mk__', '__ml__', '__mn__', '__mr__', '__ms__', '__my__', '__ne__', '__nl__', '__no__', '__ns__', '__oc__', '__or__', '__pa__', '__pl__', '__ps__', '__pt__', '__ro__', '__ru__', '__sd__', '__si__', '__sk__', '__sl__', '__so__', '__sq__', '__sr__', '__ss__', '__su__', '__sv__', '__sw__', '__ta__', '__th__', '__tl__', '__tn__', '__tr__', '__uk__', '__ur__', '__uz__', '__vi__', '__wo__', '__xh__', '__yi__', '__yo__', '__zh__', '__zu__']}, clean_up_tokenization_spaces=True)"
      ]
     },
     "execution_count": 7,
     "metadata": {},
     "output_type": "execute_result"
    }
   ],
   "source": [
    "# トークナイザを読込\n",
    "tokenizer = M2M100Tokenizer.from_pretrained(model_path)\n",
    "\n",
    "tokenizer\n"
   ]
  },
  {
   "cell_type": "code",
   "execution_count": 8,
   "id": "7a49d330-5aaf-4d91-98d0-800c02f87382",
   "metadata": {
    "tags": []
   },
   "outputs": [],
   "source": [
    "def translate(input_text, src_lang, target_lang):\n",
    "    \"\"\"\n",
    "    翻訳実行\n",
    "    \n",
    "    Args:\n",
    "        input_text (str): 入力文字列\n",
    "        src_lang (src): 翻訳「元」言語\n",
    "        target_lang (src): 翻訳「先」言語\n",
    "    \"\"\"\n",
    "    \n",
    "    tokenizer.src_lang = src_lang  # 翻訳「元」言語\n",
    "    \n",
    "    encoded_inputs = tokenizer(input_text, return_tensors='pt')  # 符号化\n",
    "    \n",
    "    outputs = model.generate(\n",
    "        **encoded_inputs, \n",
    "        forced_bos_token_id=tokenizer.get_lang_id(target_lang),  # 翻訳「先」言語\n",
    "    )\n",
    "    \n",
    "    return tokenizer.batch_decode(outputs, skip_special_tokens=True)  # 復号\n"
   ]
  },
  {
   "cell_type": "markdown",
   "id": "62d8addf-e0a1-481b-8ce0-16f623d46354",
   "metadata": {},
   "source": [
    "## 2. 翻訳実行 \n"
   ]
  },
  {
   "cell_type": "markdown",
   "id": "a9356ab5-1c61-4ed6-97e5-4587d0fa006a",
   "metadata": {
    "tags": []
   },
   "source": [
    "### ヒンディー語 → フランス語 \n"
   ]
  },
  {
   "cell_type": "code",
   "execution_count": 9,
   "id": "651c830a-0b4c-4a9f-9dcc-91b9cbff86dd",
   "metadata": {
    "tags": []
   },
   "outputs": [
    {
     "name": "stdout",
     "output_type": "stream",
     "text": [
      "जीवन एक चॉकलेट बॉक्स की तरह है।\n"
     ]
    }
   ],
   "source": [
    "input_text = 'जीवन एक चॉकलेट बॉक्स की तरह है।'\n",
    "\n",
    "print(input_text)\n"
   ]
  },
  {
   "cell_type": "code",
   "execution_count": null,
   "id": "852665c9-f619-41ca-bdc0-86a13ded8767",
   "metadata": {
    "tags": []
   },
   "outputs": [],
   "source": [
    "%%time\n",
    "\n",
    "output_texts = translate(\n",
    "    input_text, \n",
    "    'hi',  # ヒンディー語\n",
    "    'fr',  # フランス語\n",
    ")\n",
    "\n",
    "print(output_texts[0])\n"
   ]
  },
  {
   "cell_type": "markdown",
   "id": "1af86890-976d-44e3-b8ba-bb6b5ee0aa9c",
   "metadata": {
    "tags": []
   },
   "source": [
    "### ヒンディー語 → 日本語 \n"
   ]
  },
  {
   "cell_type": "code",
   "execution_count": 12,
   "id": "16548f96-b9a0-4919-a689-71f30cc9cebc",
   "metadata": {
    "tags": []
   },
   "outputs": [
    {
     "name": "stdout",
     "output_type": "stream",
     "text": [
      "जीवन एक चॉकलेट बॉक्स की तरह है।\n"
     ]
    }
   ],
   "source": [
    "input_text = 'जीवन एक चॉकलेट बॉक्स की तरह है।'\n",
    "\n",
    "print(input_text)\n"
   ]
  },
  {
   "cell_type": "code",
   "execution_count": 13,
   "id": "790b66d0-c43f-4845-8172-bf9c282cc862",
   "metadata": {
    "tags": []
   },
   "outputs": [
    {
     "name": "stdout",
     "output_type": "stream",
     "text": [
      "人生はチョコレートの箱のようなものです。\n"
     ]
    }
   ],
   "source": [
    "output_texts = translate(\n",
    "    input_text, \n",
    "    'hi',  # ヒンディー語\n",
    "    'ja',  # 日本語\n",
    ")\n",
    "\n",
    "print(output_texts[0])\n"
   ]
  },
  {
   "cell_type": "markdown",
   "id": "65805418-d200-43d3-9bcb-4bac622c796c",
   "metadata": {
    "tags": []
   },
   "source": [
    "### フランス語 → 日本語 \n"
   ]
  },
  {
   "cell_type": "code",
   "execution_count": 14,
   "id": "f4ad5f11-1ff8-4d88-a12a-889b291861a5",
   "metadata": {
    "tags": []
   },
   "outputs": [
    {
     "name": "stdout",
     "output_type": "stream",
     "text": [
      "La vie est comme une boîte de chocolat.\n"
     ]
    }
   ],
   "source": [
    "input_text = 'La vie est comme une boîte de chocolat.'\n",
    "\n",
    "print(input_text)\n"
   ]
  },
  {
   "cell_type": "code",
   "execution_count": 15,
   "id": "fb6501ec-f87a-415f-8426-cdad4931c1e2",
   "metadata": {
    "tags": []
   },
   "outputs": [
    {
     "name": "stdout",
     "output_type": "stream",
     "text": [
      "人生はチョコレートの箱のようなものです。\n"
     ]
    }
   ],
   "source": [
    "output_texts = translate(\n",
    "    input_text, \n",
    "    'fr',  # フランス語\n",
    "    'ja',  # 日本語\n",
    ")\n",
    "\n",
    "print(output_texts[0])\n"
   ]
  },
  {
   "cell_type": "markdown",
   "id": "e929855c-f64b-42f2-bdf6-d814a9c95249",
   "metadata": {
    "tags": []
   },
   "source": [
    "### 日本語 → 中国語 \n"
   ]
  },
  {
   "cell_type": "code",
   "execution_count": 16,
   "id": "cb6d1ae1-7dbf-403d-a259-75e2e82310ee",
   "metadata": {
    "tags": []
   },
   "outputs": [
    {
     "name": "stdout",
     "output_type": "stream",
     "text": [
      "パクチーが好きな人もいれば、そうでない人もいる。\n"
     ]
    }
   ],
   "source": [
    "input_text = 'パクチーが好きな人もいれば、そうでない人もいる。'\n",
    "\n",
    "print(input_text)\n"
   ]
  },
  {
   "cell_type": "code",
   "execution_count": 17,
   "id": "1a15677c-3a64-4476-b712-e8cbba588a93",
   "metadata": {
    "tags": []
   },
   "outputs": [
    {
     "name": "stdout",
     "output_type": "stream",
     "text": [
      "有些人喜欢巴菲特,有些人不喜欢。\n"
     ]
    }
   ],
   "source": [
    "output_texts = translate(\n",
    "    input_text, \n",
    "    'ja',  # 日本語\n",
    "    'zh',  # 中国語\n",
    ")\n",
    "\n",
    "print(output_texts[0])\n"
   ]
  },
  {
   "cell_type": "markdown",
   "id": "14ce72ee-db02-4302-99d0-9d9c917e42f4",
   "metadata": {
    "tags": []
   },
   "source": [
    "### 日本語 → 英語 \n"
   ]
  },
  {
   "cell_type": "code",
   "execution_count": 18,
   "id": "e919917d-19f4-45bc-9a4c-e02d974c1867",
   "metadata": {
    "tags": []
   },
   "outputs": [
    {
     "name": "stdout",
     "output_type": "stream",
     "text": [
      "パクチーが好きな人もいれば、そうでない人もいる。\n"
     ]
    }
   ],
   "source": [
    "input_text = 'パクチーが好きな人もいれば、そうでない人もいる。'\n",
    "\n",
    "print(input_text)\n"
   ]
  },
  {
   "cell_type": "code",
   "execution_count": 19,
   "id": "898bad60-febd-4eaa-9c1f-716972c6b273",
   "metadata": {
    "tags": []
   },
   "outputs": [
    {
     "name": "stdout",
     "output_type": "stream",
     "text": [
      "Some people like pudding, others don’t.\n"
     ]
    }
   ],
   "source": [
    "output_texts = translate(\n",
    "    input_text, \n",
    "    'ja',  # 日本語\n",
    "    'en',  # 英語\n",
    ")\n",
    "\n",
    "print(output_texts[0])\n"
   ]
  },
  {
   "cell_type": "code",
   "execution_count": 26,
   "id": "f667b423-ea2e-4167-a176-49470c7c14e3",
   "metadata": {
    "tags": []
   },
   "outputs": [
    {
     "name": "stdout",
     "output_type": "stream",
     "text": [
      "外国為替市場で一方的な円安が続いている。対ユーロでは15年ぶりの安値をつけたほか、対スイスフランでは最安値圏にある。インフレ高止まりで世界の中央銀行が追加的な金融引き締めを模索するなか、日銀の緩和継続姿勢が円売りを促す。政府・日銀がドル売り・円買いに動いた水準に近づき、市場では警戒感が高まってきた。\n"
     ]
    }
   ],
   "source": [
    "input_text = '外国為替市場で一方的な円安が続いている。対ユーロでは15年ぶりの安値をつけたほか、対スイスフランでは最安値圏にある。インフレ高止まりで世界の中央銀行が追加的な金融引き締めを模索するなか、日銀の緩和継続姿勢が円売りを促す。政府・日銀がドル売り・円買いに動いた水準に近づき、市場では警戒感が高まってきた。'\n",
    "\n",
    "print(input_text)\n"
   ]
  },
  {
   "cell_type": "code",
   "execution_count": 27,
   "id": "bd18cfe6-dcc9-42f0-b6a9-20bf4ec94fc2",
   "metadata": {
    "tags": []
   },
   "outputs": [
    {
     "name": "stdout",
     "output_type": "stream",
     "text": [
      "On the foreign exchange market, the one-sided yen continues to rise.The euro has reached its lowest level in 15 years, while the Swiss franc is at its lowest.Inflation has stopped and the world’s central banks are seeking additional financial constraints, while the Japanese central bank’s continued easing stance has prompted the sale of the yen.The government and the Japanese central bank have moved closer to the level of dollar sales and yen purchases, and the markets have become more alert.\n"
     ]
    }
   ],
   "source": [
    "output_texts = translate(\n",
    "    input_text, \n",
    "    'ja',  # 日本語\n",
    "    'en',  # 英語\n",
    ")\n",
    "\n",
    "print(output_texts[0])\n"
   ]
  },
  {
   "cell_type": "markdown",
   "id": "c23f6d1b-4c71-46fc-9fa9-b8e899b29a82",
   "metadata": {
    "tags": []
   },
   "source": [
    "### 英語 → 日本語 \n"
   ]
  },
  {
   "cell_type": "code",
   "execution_count": 28,
   "id": "b59eed67-602e-4959-9351-b51abbe198e1",
   "metadata": {
    "tags": []
   },
   "outputs": [
    {
     "name": "stdout",
     "output_type": "stream",
     "text": [
      "On the foreign exchange market, the one-sided yen continues to rise.The euro has reached its lowest level in 15 years, while the Swiss franc is at its lowest.Inflation has stopped and the world’s central banks are seeking additional financial constraints, while the Japanese central bank’s continued easing stance has prompted the sale of the yen.The government and the Japanese central bank have moved closer to the level of dollar sales and yen purchases, and the markets have become more alert.\n"
     ]
    }
   ],
   "source": [
    "input_text = 'On the foreign exchange market, the one-sided yen continues to rise.The euro has reached its lowest level in 15 years, while the Swiss franc is at its lowest.Inflation has stopped and the world’s central banks are seeking additional financial constraints, while the Japanese central bank’s continued easing stance has prompted the sale of the yen.The government and the Japanese central bank have moved closer to the level of dollar sales and yen purchases, and the markets have become more alert.'\n",
    "\n",
    "print(input_text)\n"
   ]
  },
  {
   "cell_type": "code",
   "execution_count": 29,
   "id": "92c5d277-3e02-4d00-8b2a-4033cb98b783",
   "metadata": {
    "tags": []
   },
   "outputs": [
    {
     "name": "stdout",
     "output_type": "stream",
     "text": [
      "外国為替市場では、一方的な円は上昇し続けている。ユーロは15年ぶりの低水準に達し、スイスフランは最低水準に達している。インフレは止まっており、世界の中央銀行はさらなる金融制約を求めているが、日本の中央銀行の緩和的な姿勢は円の売却を促した。\n"
     ]
    }
   ],
   "source": [
    "output_texts = translate(\n",
    "    input_text, \n",
    "    'en',  # 英語\n",
    "    'ja',  # 日本語\n",
    ")\n",
    "\n",
    "print(output_texts[0])\n"
   ]
  },
  {
   "cell_type": "code",
   "execution_count": null,
   "id": "46fd2513-011e-4d40-9c62-2bd50c26cb45",
   "metadata": {},
   "outputs": [],
   "source": []
  }
 ],
 "metadata": {
  "kernelspec": {
   "display_name": "Python 3 (ipykernel)",
   "language": "python",
   "name": "python3"
  },
  "language_info": {
   "codemirror_mode": {
    "name": "ipython",
    "version": 3
   },
   "file_extension": ".py",
   "mimetype": "text/x-python",
   "name": "python",
   "nbconvert_exporter": "python",
   "pygments_lexer": "ipython3",
   "version": "3.11.3"
  }
 },
 "nbformat": 4,
 "nbformat_minor": 5
}
